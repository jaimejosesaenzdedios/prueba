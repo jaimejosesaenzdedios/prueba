{
 "cells": [
  {
   "cell_type": "markdown",
   "id": "8efc987c",
   "metadata": {},
   "source": [
    "# 📦 Introducción a Supabase con Python en Google Colab"
   ]
  },
  {
   "cell_type": "markdown",
   "id": "65122bef",
   "metadata": {},
   "source": [
    "\n",
    "Este notebook muestra cómo conectar con Supabase desde Python, registrar e iniciar sesión de usuarios, insertar y consultar datos en una tabla llamada `tareas`.\n",
    "\n",
    "🔧 Requisitos:\n",
    "- Tener un proyecto en [Supabase](https://supabase.com)\n",
    "- Obtener la URL del proyecto y la clave `anon` o `service_role`\n"
   ]
  },
  {
   "cell_type": "code",
   "execution_count": null,
   "id": "f48a8ed9",
   "metadata": {},
   "outputs": [],
   "source": [
    "!pip install supabase"
   ]
  },
  {
   "cell_type": "code",
   "execution_count": null,
   "id": "9bf0eaa7",
   "metadata": {},
   "outputs": [],
   "source": [
    "\n",
    "from supabase import create_client, Client\n",
    "\n",
    "# Reemplaza con tus credenciales de Supabase\n",
    "SUPABASE_URL = \"https://your-project.supabase.co\"\n",
    "SUPABASE_KEY = \"your-anon-or-service-role-key\"\n",
    "\n",
    "supabase: Client = create_client(SUPABASE_URL, SUPABASE_KEY)\n"
   ]
  },
  {
   "cell_type": "code",
   "execution_count": null,
   "id": "1b1b1198",
   "metadata": {},
   "outputs": [],
   "source": [
    "\n",
    "def registrar_usuario(email, password):\n",
    "    return supabase.auth.sign_up({\"email\": email, \"password\": password})\n",
    "\n",
    "# Ejemplo de registro\n",
    "registro = registrar_usuario(\"usuario@example.com\", \"password123\")\n",
    "print(\"Registro:\", registro)\n"
   ]
  },
  {
   "cell_type": "code",
   "execution_count": null,
   "id": "1cd85dcb",
   "metadata": {},
   "outputs": [],
   "source": [
    "\n",
    "def iniciar_sesion(email, password):\n",
    "    return supabase.auth.sign_in_with_password({\"email\": email, \"password\": password})\n",
    "\n",
    "# Ejemplo de inicio de sesión\n",
    "sesion = iniciar_sesion(\"usuario@example.com\", \"password123\")\n",
    "print(\"Sesión:\", sesion)\n"
   ]
  },
  {
   "cell_type": "code",
   "execution_count": null,
   "id": "e5228736",
   "metadata": {},
   "outputs": [],
   "source": [
    "\n",
    "def insertar_tarea(titulo, estado):\n",
    "    return supabase.table(\"tareas\").insert({\"titulo\": titulo, \"estado\": estado}).execute()\n",
    "\n",
    "# Ejemplo de inserción\n",
    "nueva_tarea = insertar_tarea(\"Preparar clase de Supabase\", \"pendiente\")\n",
    "print(\"Tarea insertada:\", nueva_tarea)\n"
   ]
  },
  {
   "cell_type": "code",
   "execution_count": null,
   "id": "ccfcc728",
   "metadata": {},
   "outputs": [],
   "source": [
    "\n",
    "def obtener_tareas():\n",
    "    return supabase.table(\"tareas\").select(\"*\").execute().data\n",
    "\n",
    "# Ejemplo de consulta\n",
    "tareas = obtener_tareas()\n",
    "print(\"Lista de tareas:\", tareas)\n"
   ]
  }
 ],
 "metadata": {},
 "nbformat": 4,
 "nbformat_minor": 5
}
